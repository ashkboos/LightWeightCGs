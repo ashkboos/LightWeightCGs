{
 "cells": [
  {
   "cell_type": "code",
   "execution_count": 1,
   "metadata": {},
   "outputs": [],
   "source": [
    "import os\n",
    "import pandas as pd\n",
    "from scipy.stats import norm  \n",
    "import matplotlib.pyplot as plt\n",
    "import numpy as np\n",
    "from scipy import stats"
   ]
  },
  {
   "cell_type": "code",
   "execution_count": 3,
   "metadata": {},
   "outputs": [],
   "source": [
    "root = '/Users/mehdi/Desktop/MyMac/TUD/FASTEN/Repositories/MainRepo/LightWeightCGs/results/outputStats/overAll/'\n",
    "accuracy = pd.read_csv(root+\"accuracy.csv\")\n",
    "overall = pd.read_csv(root+\"Overall.csv\")\n",
    "overall = overall[~overall['opalTime'].isna()]\n",
    "input_data = pd.read_csv(root+\"inputStats.csv\")"
   ]
  },
  {
   "cell_type": "code",
   "execution_count": 5,
   "metadata": {},
   "outputs": [],
   "source": [
    "def mean_median_std(data, field):\n",
    "    print(\"mean of %s: %f\" %( field, data[field].mean()))\n",
    "    print(\"std of %s: %f\" %( field, data[field].std()))\n",
    "    print(\"median of %s: %f\" %( field, data[field].median()))\n",
    "    print('\\n')\n",
    "    \n",
    "def violin(data, field, path):\n",
    "    fig, (ax1) = plt.subplots(nrows=1, ncols=1)\n",
    "    ax1.violinplot(data[field], showmedians=True)\n",
    "    ax1.set_title(field)\n",
    "    plt.savefig(path)\n",
    "    plt.show()\n",
    "    plt.close()\n",
    "    \n",
    "def cumulative_curve(data, field):\n",
    "    plt.title(field)\n",
    "    X2 = np.sort(data[field])/float(1000)\n",
    "    F2 = np.array(range(len(data[field])))\n",
    "    plt.plot(X2, F2)\n",
    "    plt.ticklabel_format(useOffset=False)\n",
    "    plt.show()\n",
    "    plt.close()\n",
    "    \n",
    "def remove_outliers(df):\n",
    "    z_scores = stats.zscore(df)\n",
    "    abs_z_scores = np.abs(z_scores)\n",
    "    filtered_entries = (abs_z_scores < 3)\n",
    "    new_df = df[filtered_entries]\n",
    "    return new_df"
   ]
  },
  {
   "cell_type": "code",
   "execution_count": 8,
   "metadata": {
    "scrolled": true
   },
   "outputs": [
    {
     "name": "stdout",
     "output_type": "stream",
     "text": [
      "####### Accuracy Comparison ####### \n",
      " \n",
      "mean of precision: 0.986204\n",
      "std of precision: 0.096140\n",
      "median of precision: 1.000000\n",
      "\n",
      "\n",
      "mean of recall: 0.660008\n",
      "std of recall: 0.400864\n",
      "median of recall: 0.909091\n",
      "\n",
      "\n",
      "mean of OPAL: 20.690897\n",
      "std of OPAL: 80.660564\n",
      "median of OPAL: 2.000000\n",
      "\n",
      "\n",
      "mean of Merge: 12.377574\n",
      "std of Merge: 59.996623\n",
      "median of Merge: 1.000000\n",
      "\n",
      "\n",
      "mean of intersection: 12.015537\n",
      "std of intersection: 58.936274\n",
      "median of intersection: 1.000000\n",
      "\n",
      "\n",
      "\\begin{tabular}{lrrr}\n",
      "\\toprule\n",
      "{} &      mean &       std &    median \\\\\n",
      "\\midrule\n",
      "0 &  0.986204 &  0.096140 &  1.000000 \\\\\n",
      "1 &  0.660008 &  0.400864 &  0.909091 \\\\\n",
      "\\bottomrule\n",
      "\\end{tabular}\n",
      "\n",
      "####### Edge Comparison ####### \n",
      " \n",
      "mean of mergeEdges: 766118.600000\n",
      "std of mergeEdges: 46090.244866\n",
      "median of mergeEdges: 748612.000000\n",
      "\n",
      "\n",
      "mean of opalEdges: 1304553.000000\n",
      "std of opalEdges: 87078.914839\n",
      "median of opalEdges: 1266028.000000\n",
      "\n",
      "\n",
      "merge edges: 3830593\n",
      "opal edges: 3830593\n",
      "####### Time Comparison ####### \n",
      " \n",
      "\\begin{tabular}{lrrr}\n",
      "\\toprule\n",
      "{} &      mean &           std &    median \\\\\n",
      "\\midrule\n",
      "0 &    4940.2 &   2003.231190 &    4888.0 \\\\\n",
      "1 &   40865.4 &  12029.491024 &   44152.0 \\\\\n",
      "2 &  111888.4 &   4849.982196 &  110529.0 \\\\\n",
      "\\bottomrule\n",
      "\\end{tabular}\n",
      "\n",
      "mean of mergeTime: 4940.200000\n",
      "std of mergeTime: 2003.231190\n",
      "median of mergeTime: 4888.000000\n",
      "\n",
      "\n",
      "mean of UCHTime: 1347.800000\n",
      "std of UCHTime: 572.358891\n",
      "median of UCHTime: 1219.000000\n",
      "\n",
      "\n",
      "mean of opalTime: 40865.400000\n",
      "std of opalTime: 12029.491024\n",
      "median of opalTime: 44152.000000\n",
      "\n",
      "\n"
     ]
    }
   ],
   "source": [
    "print(\"####### Accuracy Comparison ####### \\n \")\n",
    "mean_median_std(accuracy, 'precision')\n",
    "mean_median_std(accuracy, 'recall')\n",
    "mean_median_std(accuracy, 'OPAL')\n",
    "mean_median_std(accuracy, 'Merge')\n",
    "mean_median_std(accuracy, 'intersection')\n",
    "\n",
    "df = pd.DataFrame(dict(mean=[accuracy['precision'].mean(), accuracy['recall'].mean()],\n",
    "                  std=[accuracy['precision'].std(), accuracy['recall'].std()],\n",
    "                  median=[accuracy['precision'].median(), accuracy['recall'].median()]))\n",
    "\n",
    "print(df.to_latex(index = True, index_names= True))\n",
    "\n",
    "\n",
    "overall_fair = overall[(overall['mergeEdges'] != -1) & (overall['opalEdges'] != -1)]\n",
    "\n",
    "print(\"####### Edge Comparison ####### \\n \")\n",
    "mean_median_std(overall_fair, 'mergeEdges')\n",
    "mean_median_std(overall_fair, 'opalEdges')\n",
    "\n",
    "print(\"merge edges: %d\" %(overall_fair['mergeEdges'].sum()))\n",
    "print(\"opal edges: %d\" %(overall_fair['mergeEdges'].sum()))\n",
    "\n",
    "print(\"####### Time Comparison ####### \\n \")\n",
    "df = pd.DataFrame(dict(mean=[overall_fair['mergeTime'].mean(), overall_fair['opalTime'].mean(), overall_fair['cgPool'].mean()],\n",
    "                  std=[overall_fair['mergeTime'].std(), overall_fair['opalTime'].std(), overall_fair['cgPool'].std()],\n",
    "                  median=[overall_fair['mergeTime'].median(), overall_fair['opalTime'].median(), overall_fair['cgPool'].median()]))\n",
    "\n",
    "print(df.to_latex(index = True, index_names= True))\n",
    "\n",
    "mean_median_std(overall_fair, 'mergeTime')\n",
    "mean_median_std(overall_fair, 'UCHTime')\n",
    "mean_median_std(overall_fair, 'opalTime')"
   ]
  },
  {
   "cell_type": "code",
   "execution_count": 16,
   "metadata": {
    "scrolled": false
   },
   "outputs": [
    {
     "name": "stdout",
     "output_type": "stream",
     "text": [
      "####### Accuracy Comparison ####### \n",
      " \n"
     ]
    },
    {
     "data": {
      "image/png": "[encoded data removed]",
      "text/plain": [
       "<Figure size 432x288 with 2 Axes>"
      ]
     },
     "metadata": {
      "needs_background": "light"
     },
     "output_type": "display_data"
    },
    {
     "name": "stdout",
     "output_type": "stream",
     "text": [
      "####### Edge Comparison ####### \n",
      " \n"
     ]
    },
    {
     "data": {
      "image/png": "[encoded data removed]",
      "text/plain": [
       "<Figure size 432x288 with 2 Axes>"
      ]
     },
     "metadata": {
      "needs_background": "light"
     },
     "output_type": "display_data"
    },
    {
     "name": "stdout",
     "output_type": "stream",
     "text": [
      "####### Time Comparison ####### \n",
      " \n"
     ]
    },
    {
     "data": {
      "image/png": "[encoded data removed]",
      "text/plain": [
       "<Figure size 432x288 with 3 Axes>"
      ]
     },
     "metadata": {
      "needs_background": "light"
     },
     "output_type": "display_data"
    }
   ],
   "source": [
    "directory = \"figure\"\n",
    "if not os.path.exists(directory):\n",
    "    os.mkdir(directory)\n",
    "\n",
    "print(\"####### Accuracy Comparison ####### \\n \")\n",
    "fig, (ax1) = plt.subplots(nrows=1, ncols=2, sharey=True)\n",
    "ax1[0].violinplot(accuracy['precision'], showmedians=True)\n",
    "ax1[1].violinplot(accuracy['recall'], showmedians=True)\n",
    "ax1[0].set_title('precision')\n",
    "ax1[1].set_title('recall')\n",
    "plt.savefig(directory+'/precisonRecall.pdf')\n",
    "plt.show()\n",
    "plt.close()\n",
    "\n",
    "\n",
    "print(\"####### Edge Comparison ####### \\n \")\n",
    "fig, (ax1) = plt.subplots(nrows=1, ncols=2, sharey=True)\n",
    "ax1[0].violinplot(overall_fair['mergeEdges'], showmedians=True)\n",
    "ax1[1].violinplot(overall_fair['opalEdges'], showmedians=True)\n",
    "ax1[0].set_title('Stitching edges')\n",
    "ax1[1].set_title('Opal edges')\n",
    "plt.savefig(directory+'/edgeComparison.pdf')\n",
    "plt.show()\n",
    "plt.close()\n",
    "\n",
    "print(\"####### Time Comparison ####### \\n \")\n",
    "fig, (ax1) = plt.subplots(nrows=1, ncols=3, sharey=True)\n",
    "ax1[0].violinplot(overall_fair['opalTime'], showmedians=True)\n",
    "ax1[1].violinplot(overall_fair['cgPool'], showmedians=True)\n",
    "ax1[2].violinplot(overall_fair['mergeTime'], showmedians=True)\n",
    "ax1[0].set_title('opalTime')\n",
    "ax1[1].set_title('cgCacheTime')\n",
    "ax1[2].set_title('StitchingTime')\n",
    "plt.savefig(directory+'/timeViolin.pdf')\n",
    "plt.show()\n",
    "plt.close()\n",
    "\n"
   ]
  },
  {
   "cell_type": "code",
   "execution_count": 36,
   "metadata": {},
   "outputs": [
    {
     "name": "stdout",
     "output_type": "stream",
     "text": [
      "####### Input Data ####### \n",
      " \n"
     ]
    },
    {
     "data": {
      "image/png": "[encoded data removed]",
      "text/plain": [
       "<Figure size 432x288 with 3 Axes>"
      ]
     },
     "metadata": {
      "needs_background": "light"
     },
     "output_type": "display_data"
    }
   ],
   "source": [
    "print(\"####### Input Data ####### \\n \")\n",
    "fig, (ax1) = plt.subplots(nrows=1, ncols=3, sharey=False)\n",
    "ax1[0].boxplot(remove_outliers(input_data['depNum']))\n",
    "ax1[0].set_title('Dependencies')\n",
    "ax1[1].boxplot(remove_outliers(input_data['numFiles']))\n",
    "ax1[1].set_title('Files')\n",
    "ax1[2].boxplot(remove_outliers(input_data['numFilesWithDeps']))\n",
    "ax1[2].set_title('Files with dependencies')\n",
    "fig.tight_layout(pad=1)\n",
    "\n",
    "# plt.savefig(directory+'/input.pdf')\n",
    "plt.show()\n",
    "plt.close()"
   ]
  },
  {
   "cell_type": "code",
   "execution_count": 32,
   "metadata": {},
   "outputs": [
    {
     "data": {
      "text/plain": [
       "0    24475\n",
       "1    11956\n",
       "2    11956\n",
       "3    11956\n",
       "4    25331\n",
       "5    11957\n",
       "6    43986\n",
       "7    13003\n",
       "8    28136\n",
       "9    23496\n",
       "Name: numFilesWithDeps, dtype: int64"
      ]
     },
     "execution_count": 32,
     "metadata": {},
     "output_type": "execute_result"
    }
   ],
   "source": [
    "input_data['numFilesWithDeps']"
   ]
  },
  {
   "cell_type": "code",
   "execution_count": 38,
   "metadata": {},
   "outputs": [
    {
     "data": {
      "text/plain": [
       "4    25331\n",
       "5    11957\n",
       "6    43986\n",
       "7    13003\n",
       "8    28136\n",
       "9    23496\n",
       "Name: numFilesWithDeps, dtype: int64"
      ]
     },
     "execution_count": 38,
     "metadata": {},
     "output_type": "execute_result"
    }
   ],
   "source": [
    "new = input_data['numFilesWithDeps'][0:2]\n",
    "cond = input_data['numFilesWithDeps'].isin(new)\n",
    "df1 = input_data['numFilesWithDeps']\n",
    "df2 = df1.drop(df1[cond].index)\n",
    "df2\n"
   ]
  },
  {
   "cell_type": "code",
   "execution_count": 39,
   "metadata": {},
   "outputs": [
    {
     "data": {
      "text/plain": [
       "0    24475\n",
       "1    11956\n",
       "Name: numFilesWithDeps, dtype: int64"
      ]
     },
     "execution_count": 39,
     "metadata": {},
     "output_type": "execute_result"
    }
   ],
   "source": [
    "new"
   ]
  },
  {
   "cell_type": "code",
   "execution_count": 18,
   "metadata": {},
   "outputs": [
    {
     "name": "stdout",
     "output_type": "stream",
     "text": [
      "depNum: 61.5\n",
      "numFiles: 316.3\n",
      "numFilesWithDeps: 20625.2\n"
     ]
    }
   ],
   "source": [
    "print(\"depNum: %s\"%input_data['depNum'].mean())\n",
    "print(\"numFiles: %s\"%input_data['numFiles'].mean())\n",
    "print(\"numFilesWithDeps: %s\"%input_data['numFilesWithDeps'].mean())"
   ]
  },
  {
   "cell_type": "code",
   "execution_count": 40,
   "metadata": {},
   "outputs": [
    {
     "data": {
      "text/plain": [
       "0    24475\n",
       "1    11956\n",
       "2    11956\n",
       "3    11956\n",
       "4    25331\n",
       "5    11957\n",
       "6    43986\n",
       "7    13003\n",
       "8    28136\n",
       "9    23496\n",
       "Name: numFilesWithDeps, dtype: int64"
      ]
     },
     "execution_count": 40,
     "metadata": {},
     "output_type": "execute_result"
    }
   ],
   "source": [
    "df1"
   ]
  },
  {
   "cell_type": "code",
   "execution_count": 19,
   "metadata": {},
   "outputs": [
    {
     "name": "stdout",
     "output_type": "stream",
     "text": [
      "####### Accuracy Comparison ####### \n",
      " \n"
     ]
    },
    {
     "data": {
      "image/png": "[encoded data removed]",
      "text/plain": [
       "<Figure size 432x288 with 1 Axes>"
      ]
     },
     "metadata": {
      "needs_background": "light"
     },
     "output_type": "display_data"
    },
    {
     "data": {
      "image/png": "[encoded data removed]",
      "text/plain": [
       "<Figure size 432x288 with 1 Axes>"
      ]
     },
     "metadata": {
      "needs_background": "light"
     },
     "output_type": "display_data"
    },
    {
     "data": {
      "image/png": "[encoded data removed]",
      "text/plain": [
       "<Figure size 432x288 with 1 Axes>"
      ]
     },
     "metadata": {
      "needs_background": "light"
     },
     "output_type": "display_data"
    },
    {
     "data": {
      "image/png": "[encoded data removed]",
      "text/plain": [
       "<Figure size 432x288 with 1 Axes>"
      ]
     },
     "metadata": {
      "needs_background": "light"
     },
     "output_type": "display_data"
    },
    {
     "data": {
      "image/png": "[encoded data removed]",
      "text/plain": [
       "<Figure size 432x288 with 1 Axes>"
      ]
     },
     "metadata": {
      "needs_background": "light"
     },
     "output_type": "display_data"
    }
   ],
   "source": [
    "print(\"####### Accuracy Comparison ####### \\n \")\n",
    "cumulative_curve(accuracy, 'precision')\n",
    "cumulative_curve(accuracy, 'recall')\n",
    "cumulative_curve(accuracy, 'OPAL')\n",
    "cumulative_curve(accuracy, 'Merge')\n",
    "cumulative_curve(accuracy, 'intersection')"
   ]
  },
  {
   "cell_type": "code",
   "execution_count": null,
   "metadata": {},
   "outputs": [],
   "source": []
  }
 ],
 "metadata": {
  "kernelspec": {
   "display_name": "Python 3",
   "language": "python",
   "name": "python3"
  },
  "language_info": {
   "codemirror_mode": {
    "name": "ipython",
    "version": 3
   },
   "file_extension": ".py",
   "mimetype": "text/x-python",
   "name": "python",
   "nbconvert_exporter": "python",
   "pygments_lexer": "ipython3",
   "version": "3.8.3"
  }
 },
 "nbformat": 4,
 "nbformat_minor": 4
}
